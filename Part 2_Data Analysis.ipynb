{
 "cells": [
  {
   "cell_type": "code",
   "execution_count": 1,
   "id": "plain-heater",
   "metadata": {},
   "outputs": [],
   "source": [
    "import pandas as pd\n",
    "import numpy as np\n",
    "import matplotlib.pyplot as plt\n",
    "import seaborn as sns\n",
    "\n",
    "sns.set()\n",
    "%matplotlib inline"
   ]
  },
  {
   "cell_type": "code",
   "execution_count": 2,
   "id": "fourth-techno",
   "metadata": {},
   "outputs": [],
   "source": [
    "import os"
   ]
  },
  {
   "cell_type": "code",
   "execution_count": 3,
   "id": "personalized-gathering",
   "metadata": {},
   "outputs": [],
   "source": [
    "data_dir = \"C:/Users/Kelvin Chumbe/Desktop/ALX Assignment Docs/data\""
   ]
  },
  {
   "cell_type": "code",
   "execution_count": 4,
   "id": "manual-terminal",
   "metadata": {},
   "outputs": [],
   "source": [
    "# Read in member database data\n",
    "member_db = pd.read_csv(os.path.join(data_dir, 'Member database.csv'))"
   ]
  },
  {
   "cell_type": "code",
   "execution_count": 5,
   "id": "industrial-chemistry",
   "metadata": {
    "scrolled": true
   },
   "outputs": [
    {
     "data": {
      "text/html": [
       "<div>\n",
       "<style scoped>\n",
       "    .dataframe tbody tr th:only-of-type {\n",
       "        vertical-align: middle;\n",
       "    }\n",
       "\n",
       "    .dataframe tbody tr th {\n",
       "        vertical-align: top;\n",
       "    }\n",
       "\n",
       "    .dataframe thead th {\n",
       "        text-align: right;\n",
       "    }\n",
       "</style>\n",
       "<table border=\"1\" class=\"dataframe\">\n",
       "  <thead>\n",
       "    <tr style=\"text-align: right;\">\n",
       "      <th></th>\n",
       "      <th>First Name</th>\n",
       "      <th>Last Name</th>\n",
       "      <th>Email</th>\n",
       "      <th>Gender</th>\n",
       "      <th>Institution</th>\n",
       "      <th>Year of Graduation</th>\n",
       "      <th>Graduation Month</th>\n",
       "    </tr>\n",
       "  </thead>\n",
       "  <tbody>\n",
       "    <tr>\n",
       "      <th>0</th>\n",
       "      <td>April</td>\n",
       "      <td>Kelley</td>\n",
       "      <td>a.kelley@randatmail.com</td>\n",
       "      <td>Female</td>\n",
       "      <td>ALU Rwanda</td>\n",
       "      <td>2021.0</td>\n",
       "      <td>January</td>\n",
       "    </tr>\n",
       "    <tr>\n",
       "      <th>1</th>\n",
       "      <td>Alexia</td>\n",
       "      <td>Nelson</td>\n",
       "      <td>a.nelson@randatmail.com</td>\n",
       "      <td>Female</td>\n",
       "      <td>ALU Rwanda</td>\n",
       "      <td>2022.0</td>\n",
       "      <td>January</td>\n",
       "    </tr>\n",
       "  </tbody>\n",
       "</table>\n",
       "</div>"
      ],
      "text/plain": [
       "  First Name Last Name                    Email  Gender Institution  \\\n",
       "0      April    Kelley  a.kelley@randatmail.com  Female  ALU Rwanda   \n",
       "1     Alexia    Nelson  a.nelson@randatmail.com  Female  ALU Rwanda   \n",
       "\n",
       "   Year of Graduation Graduation Month  \n",
       "0              2021.0          January  \n",
       "1              2022.0          January  "
      ]
     },
     "execution_count": 5,
     "metadata": {},
     "output_type": "execute_result"
    }
   ],
   "source": [
    "member_db.head(2)"
   ]
  },
  {
   "cell_type": "code",
   "execution_count": 6,
   "id": "optional-dimension",
   "metadata": {},
   "outputs": [],
   "source": [
    "# Read in member engagement data\n",
    "member_engagement = pd.read_csv(os.path.join(data_dir, 'Member engagement.csv'))"
   ]
  },
  {
   "cell_type": "code",
   "execution_count": 7,
   "id": "flexible-lender",
   "metadata": {},
   "outputs": [
    {
     "data": {
      "text/html": [
       "<div>\n",
       "<style scoped>\n",
       "    .dataframe tbody tr th:only-of-type {\n",
       "        vertical-align: middle;\n",
       "    }\n",
       "\n",
       "    .dataframe tbody tr th {\n",
       "        vertical-align: top;\n",
       "    }\n",
       "\n",
       "    .dataframe thead th {\n",
       "        text-align: right;\n",
       "    }\n",
       "</style>\n",
       "<table border=\"1\" class=\"dataframe\">\n",
       "  <thead>\n",
       "    <tr style=\"text-align: right;\">\n",
       "      <th></th>\n",
       "      <th>First Name</th>\n",
       "      <th>Last Name</th>\n",
       "      <th>Email</th>\n",
       "      <th>Gender</th>\n",
       "      <th>Age</th>\n",
       "      <th>Institution</th>\n",
       "      <th>Year of Graduation</th>\n",
       "      <th>Graduation Month</th>\n",
       "      <th>Already Attended Reception</th>\n",
       "      <th>Joined Facebook Group</th>\n",
       "      <th>Attended The Living Room 1.0</th>\n",
       "      <th>Attended Room With A View 1.0</th>\n",
       "    </tr>\n",
       "  </thead>\n",
       "  <tbody>\n",
       "    <tr>\n",
       "      <th>0</th>\n",
       "      <td>Penelope</td>\n",
       "      <td>Adams</td>\n",
       "      <td>p.adams@randatmail.com</td>\n",
       "      <td>Female</td>\n",
       "      <td>18</td>\n",
       "      <td>ALU Rwanda</td>\n",
       "      <td>2023.0</td>\n",
       "      <td>January</td>\n",
       "      <td>No</td>\n",
       "      <td>Yes</td>\n",
       "      <td>No</td>\n",
       "      <td>No</td>\n",
       "    </tr>\n",
       "    <tr>\n",
       "      <th>1</th>\n",
       "      <td>Catherine</td>\n",
       "      <td>Adams</td>\n",
       "      <td>c.adams@randatmail.com</td>\n",
       "      <td>Female</td>\n",
       "      <td>28</td>\n",
       "      <td>ALX</td>\n",
       "      <td>2019.0</td>\n",
       "      <td>April</td>\n",
       "      <td>Yes</td>\n",
       "      <td>Yes</td>\n",
       "      <td>Yes</td>\n",
       "      <td>No</td>\n",
       "    </tr>\n",
       "  </tbody>\n",
       "</table>\n",
       "</div>"
      ],
      "text/plain": [
       "  First Name Last Name                   Email  Gender  Age Institution  \\\n",
       "0   Penelope     Adams  p.adams@randatmail.com  Female   18  ALU Rwanda   \n",
       "1  Catherine     Adams  c.adams@randatmail.com  Female   28         ALX   \n",
       "\n",
       "   Year of Graduation Graduation Month Already Attended Reception  \\\n",
       "0              2023.0          January                         No   \n",
       "1              2019.0            April                        Yes   \n",
       "\n",
       "  Joined Facebook Group Attended The Living Room 1.0  \\\n",
       "0                   Yes                           No   \n",
       "1                   Yes                          Yes   \n",
       "\n",
       "  Attended Room With A View 1.0  \n",
       "0                            No  \n",
       "1                            No  "
      ]
     },
     "execution_count": 7,
     "metadata": {},
     "output_type": "execute_result"
    }
   ],
   "source": [
    "member_engagement.head(2)"
   ]
  },
  {
   "cell_type": "markdown",
   "id": "innovative-lindsay",
   "metadata": {},
   "source": [
    "## Data Cleaning"
   ]
  },
  {
   "cell_type": "markdown",
   "id": "running-cycling",
   "metadata": {},
   "source": [
    "### Member Database"
   ]
  },
  {
   "cell_type": "code",
   "execution_count": 8,
   "id": "bizarre-boundary",
   "metadata": {
    "scrolled": true
   },
   "outputs": [
    {
     "data": {
      "text/plain": [
       "First Name            0\n",
       "Last Name             0\n",
       "Email                 0\n",
       "Gender                0\n",
       "Institution           0\n",
       "Year of Graduation    5\n",
       "Graduation Month      5\n",
       "dtype: int64"
      ]
     },
     "execution_count": 8,
     "metadata": {},
     "output_type": "execute_result"
    }
   ],
   "source": [
    "# Check for null values\n",
    "member_db.isnull().sum()"
   ]
  },
  {
   "cell_type": "markdown",
   "id": "premium-wisdom",
   "metadata": {},
   "source": [
    "#### Observation:\n",
    "* 5 records with null values for Year of Graduation and Graduation Month. "
   ]
  },
  {
   "cell_type": "code",
   "execution_count": 9,
   "id": "understanding-intersection",
   "metadata": {},
   "outputs": [
    {
     "data": {
      "text/html": [
       "<div>\n",
       "<style scoped>\n",
       "    .dataframe tbody tr th:only-of-type {\n",
       "        vertical-align: middle;\n",
       "    }\n",
       "\n",
       "    .dataframe tbody tr th {\n",
       "        vertical-align: top;\n",
       "    }\n",
       "\n",
       "    .dataframe thead th {\n",
       "        text-align: right;\n",
       "    }\n",
       "</style>\n",
       "<table border=\"1\" class=\"dataframe\">\n",
       "  <thead>\n",
       "    <tr style=\"text-align: right;\">\n",
       "      <th></th>\n",
       "      <th>First Name</th>\n",
       "      <th>Last Name</th>\n",
       "      <th>Email</th>\n",
       "      <th>Gender</th>\n",
       "      <th>Institution</th>\n",
       "      <th>Year of Graduation</th>\n",
       "      <th>Graduation Month</th>\n",
       "    </tr>\n",
       "  </thead>\n",
       "  <tbody>\n",
       "    <tr>\n",
       "      <th>3</th>\n",
       "      <td>Oscar</td>\n",
       "      <td>Evans</td>\n",
       "      <td>o.evans@randatmail.com</td>\n",
       "      <td>Male</td>\n",
       "      <td>ALU Alumni</td>\n",
       "      <td>NaN</td>\n",
       "      <td>NaN</td>\n",
       "    </tr>\n",
       "    <tr>\n",
       "      <th>10</th>\n",
       "      <td>Fiona</td>\n",
       "      <td>Armstrong</td>\n",
       "      <td>f.armstrong@randatmail.com</td>\n",
       "      <td>Female</td>\n",
       "      <td>ALU Alumni</td>\n",
       "      <td>NaN</td>\n",
       "      <td>NaN</td>\n",
       "    </tr>\n",
       "    <tr>\n",
       "      <th>14</th>\n",
       "      <td>Alissa</td>\n",
       "      <td>Parker</td>\n",
       "      <td>a.parker@randatmail.com</td>\n",
       "      <td>Female</td>\n",
       "      <td>ALU Alumni</td>\n",
       "      <td>NaN</td>\n",
       "      <td>NaN</td>\n",
       "    </tr>\n",
       "    <tr>\n",
       "      <th>31</th>\n",
       "      <td>Spike</td>\n",
       "      <td>Stevens</td>\n",
       "      <td>s.stevens@randatmail.com</td>\n",
       "      <td>Male</td>\n",
       "      <td>ALU Alumni</td>\n",
       "      <td>NaN</td>\n",
       "      <td>NaN</td>\n",
       "    </tr>\n",
       "    <tr>\n",
       "      <th>33</th>\n",
       "      <td>Jenna</td>\n",
       "      <td>Russell</td>\n",
       "      <td>j.russell@randatmail.com</td>\n",
       "      <td>Female</td>\n",
       "      <td>ALU Mauritius</td>\n",
       "      <td>NaN</td>\n",
       "      <td>NaN</td>\n",
       "    </tr>\n",
       "  </tbody>\n",
       "</table>\n",
       "</div>"
      ],
      "text/plain": [
       "   First Name  Last Name                       Email  Gender    Institution  \\\n",
       "3       Oscar      Evans      o.evans@randatmail.com    Male     ALU Alumni   \n",
       "10      Fiona  Armstrong  f.armstrong@randatmail.com  Female     ALU Alumni   \n",
       "14     Alissa     Parker     a.parker@randatmail.com  Female     ALU Alumni   \n",
       "31      Spike    Stevens    s.stevens@randatmail.com    Male     ALU Alumni   \n",
       "33      Jenna    Russell    j.russell@randatmail.com  Female  ALU Mauritius   \n",
       "\n",
       "    Year of Graduation Graduation Month  \n",
       "3                  NaN              NaN  \n",
       "10                 NaN              NaN  \n",
       "14                 NaN              NaN  \n",
       "31                 NaN              NaN  \n",
       "33                 NaN              NaN  "
      ]
     },
     "execution_count": 9,
     "metadata": {},
     "output_type": "execute_result"
    }
   ],
   "source": [
    "# Filter out records with null values\n",
    "member_db[member_db['Year of Graduation'].isnull()]"
   ]
  },
  {
   "cell_type": "markdown",
   "id": "exterior-interpretation",
   "metadata": {},
   "source": [
    "#### Observation:\n",
    "* Use the member's age to create age-group bins then compute the mode values for each bin to impute the null values"
   ]
  },
  {
   "cell_type": "code",
   "execution_count": 10,
   "id": "hybrid-cotton",
   "metadata": {},
   "outputs": [
    {
     "data": {
      "text/html": [
       "<div>\n",
       "<style scoped>\n",
       "    .dataframe tbody tr th:only-of-type {\n",
       "        vertical-align: middle;\n",
       "    }\n",
       "\n",
       "    .dataframe tbody tr th {\n",
       "        vertical-align: top;\n",
       "    }\n",
       "\n",
       "    .dataframe thead th {\n",
       "        text-align: right;\n",
       "    }\n",
       "</style>\n",
       "<table border=\"1\" class=\"dataframe\">\n",
       "  <thead>\n",
       "    <tr style=\"text-align: right;\">\n",
       "      <th></th>\n",
       "      <th>First Name</th>\n",
       "      <th>Last Name</th>\n",
       "      <th>Email</th>\n",
       "      <th>Gender</th>\n",
       "      <th>Institution</th>\n",
       "      <th>Year of Graduation</th>\n",
       "      <th>Graduation Month</th>\n",
       "    </tr>\n",
       "  </thead>\n",
       "  <tbody>\n",
       "  </tbody>\n",
       "</table>\n",
       "</div>"
      ],
      "text/plain": [
       "Empty DataFrame\n",
       "Columns: [First Name, Last Name, Email, Gender, Institution, Year of Graduation, Graduation Month]\n",
       "Index: []"
      ]
     },
     "execution_count": 10,
     "metadata": {},
     "output_type": "execute_result"
    }
   ],
   "source": [
    "# Check for any duplicated records\n",
    "member_db[member_db[['Email', 'First Name', 'Last Name']].duplicated(keep=False)]"
   ]
  },
  {
   "cell_type": "markdown",
   "id": "furnished-likelihood",
   "metadata": {},
   "source": [
    "#### Observation:\n",
    "* No duplicated records"
   ]
  },
  {
   "cell_type": "code",
   "execution_count": 11,
   "id": "connected-benefit",
   "metadata": {},
   "outputs": [
    {
     "name": "stdout",
     "output_type": "stream",
     "text": [
      "<class 'pandas.core.frame.DataFrame'>\n",
      "RangeIndex: 100 entries, 0 to 99\n",
      "Data columns (total 7 columns):\n",
      " #   Column              Non-Null Count  Dtype  \n",
      "---  ------              --------------  -----  \n",
      " 0   First Name          100 non-null    object \n",
      " 1   Last Name           100 non-null    object \n",
      " 2   Email               100 non-null    object \n",
      " 3   Gender              100 non-null    object \n",
      " 4   Institution         100 non-null    object \n",
      " 5   Year of Graduation  95 non-null     float64\n",
      " 6   Graduation Month    95 non-null     object \n",
      "dtypes: float64(1), object(6)\n",
      "memory usage: 5.6+ KB\n"
     ]
    }
   ],
   "source": [
    "member_db.info()"
   ]
  },
  {
   "cell_type": "markdown",
   "id": "enabling-handle",
   "metadata": {},
   "source": [
    "#### Observation\n",
    "* Year of Graduation should be an integer not float "
   ]
  },
  {
   "cell_type": "code",
   "execution_count": 12,
   "id": "advisory-dress",
   "metadata": {},
   "outputs": [],
   "source": [
    "# Convert Year of Graduation to int64 \n",
    "member_db['Year of Graduation'] = member_db['Year of Graduation'].astype('Int64')"
   ]
  },
  {
   "cell_type": "code",
   "execution_count": 13,
   "id": "trained-drinking",
   "metadata": {},
   "outputs": [
    {
     "data": {
      "text/html": [
       "<div>\n",
       "<style scoped>\n",
       "    .dataframe tbody tr th:only-of-type {\n",
       "        vertical-align: middle;\n",
       "    }\n",
       "\n",
       "    .dataframe tbody tr th {\n",
       "        vertical-align: top;\n",
       "    }\n",
       "\n",
       "    .dataframe thead th {\n",
       "        text-align: right;\n",
       "    }\n",
       "</style>\n",
       "<table border=\"1\" class=\"dataframe\">\n",
       "  <thead>\n",
       "    <tr style=\"text-align: right;\">\n",
       "      <th></th>\n",
       "      <th>First Name</th>\n",
       "      <th>Last Name</th>\n",
       "      <th>Email</th>\n",
       "      <th>Gender</th>\n",
       "      <th>Institution</th>\n",
       "      <th>Year of Graduation</th>\n",
       "      <th>Graduation Month</th>\n",
       "    </tr>\n",
       "  </thead>\n",
       "  <tbody>\n",
       "    <tr>\n",
       "      <th>0</th>\n",
       "      <td>April</td>\n",
       "      <td>Kelley</td>\n",
       "      <td>a.kelley@randatmail.com</td>\n",
       "      <td>Female</td>\n",
       "      <td>ALU Rwanda</td>\n",
       "      <td>2021</td>\n",
       "      <td>January</td>\n",
       "    </tr>\n",
       "    <tr>\n",
       "      <th>1</th>\n",
       "      <td>Alexia</td>\n",
       "      <td>Nelson</td>\n",
       "      <td>a.nelson@randatmail.com</td>\n",
       "      <td>Female</td>\n",
       "      <td>ALU Rwanda</td>\n",
       "      <td>2022</td>\n",
       "      <td>January</td>\n",
       "    </tr>\n",
       "    <tr>\n",
       "      <th>2</th>\n",
       "      <td>Tara</td>\n",
       "      <td>Barnes</td>\n",
       "      <td>t.barnes@randatmail.com</td>\n",
       "      <td>Female</td>\n",
       "      <td>ALU Rwanda</td>\n",
       "      <td>2022</td>\n",
       "      <td>January</td>\n",
       "    </tr>\n",
       "    <tr>\n",
       "      <th>3</th>\n",
       "      <td>Oscar</td>\n",
       "      <td>Evans</td>\n",
       "      <td>o.evans@randatmail.com</td>\n",
       "      <td>Male</td>\n",
       "      <td>ALU Alumni</td>\n",
       "      <td>&lt;NA&gt;</td>\n",
       "      <td>NaN</td>\n",
       "    </tr>\n",
       "    <tr>\n",
       "      <th>4</th>\n",
       "      <td>Mary</td>\n",
       "      <td>Craig</td>\n",
       "      <td>m.craig@randatmail.com</td>\n",
       "      <td>Female</td>\n",
       "      <td>ALU Rwanda</td>\n",
       "      <td>2021</td>\n",
       "      <td>July</td>\n",
       "    </tr>\n",
       "  </tbody>\n",
       "</table>\n",
       "</div>"
      ],
      "text/plain": [
       "  First Name Last Name                    Email  Gender Institution  \\\n",
       "0      April    Kelley  a.kelley@randatmail.com  Female  ALU Rwanda   \n",
       "1     Alexia    Nelson  a.nelson@randatmail.com  Female  ALU Rwanda   \n",
       "2       Tara    Barnes  t.barnes@randatmail.com  Female  ALU Rwanda   \n",
       "3      Oscar     Evans   o.evans@randatmail.com    Male  ALU Alumni   \n",
       "4       Mary     Craig   m.craig@randatmail.com  Female  ALU Rwanda   \n",
       "\n",
       "   Year of Graduation Graduation Month  \n",
       "0                2021          January  \n",
       "1                2022          January  \n",
       "2                2022          January  \n",
       "3                <NA>              NaN  \n",
       "4                2021             July  "
      ]
     },
     "execution_count": 13,
     "metadata": {},
     "output_type": "execute_result"
    }
   ],
   "source": [
    "member_db.head()"
   ]
  },
  {
   "cell_type": "markdown",
   "id": "obvious-consolidation",
   "metadata": {},
   "source": [
    "## Data Exploration"
   ]
  },
  {
   "cell_type": "markdown",
   "id": "divine-picking",
   "metadata": {},
   "source": [
    "#### What is the gender distribution of our members?\n"
   ]
  },
  {
   "cell_type": "code",
   "execution_count": 14,
   "id": "manufactured-client",
   "metadata": {},
   "outputs": [
    {
     "data": {
      "text/plain": [
       "<AxesSubplot:ylabel='Gender'>"
      ]
     },
     "execution_count": 14,
     "metadata": {},
     "output_type": "execute_result"
    },
    {
     "data": {
      "image/png": "[encoded data removed]",
      "text/plain": [
       "<Figure size 576x432 with 1 Axes>"
      ]
     },
     "metadata": {},
     "output_type": "display_data"
    }
   ],
   "source": [
    "# Plot a pie chart to show the gender composition\n",
    "fig = plt.figure(figsize=(8,6))\n",
    "ax = fig.gca()\n",
    "\n",
    "member_db['Gender'].value_counts().plot(kind='pie', ax=ax, explode=[0.05, 0.0], autopct='%1.0f%%')"
   ]
  },
  {
   "cell_type": "markdown",
   "id": "severe-harbor",
   "metadata": {},
   "source": [
    "#### Observation:\n",
    "* There are more female members than males"
   ]
  },
  {
   "cell_type": "markdown",
   "id": "sound-blast",
   "metadata": {},
   "source": [
    "#### Which institution do our members come from?"
   ]
  },
  {
   "cell_type": "code",
   "execution_count": 15,
   "id": "brazilian-bargain",
   "metadata": {},
   "outputs": [
    {
     "data": {
      "text/plain": [
       "<AxesSubplot:>"
      ]
     },
     "execution_count": 15,
     "metadata": {},
     "output_type": "execute_result"
    },
    {
     "data": {
      "image/png": "[encoded data removed]",
      "text/plain": [
       "<Figure size 720x576 with 1 Axes>"
      ]
     },
     "metadata": {
      "needs_background": "light"
     },
     "output_type": "display_data"
    }
   ],
   "source": [
    "# Plot a bar chart to show member distribution from the institutions\n",
    "fig1 = plt.figure(figsize=(10,8))\n",
    "ax1 = fig1.gca()\n",
    "\n",
    "member_db['Institution'].value_counts().plot(kind='bar', ax=ax1)"
   ]
  },
  {
   "cell_type": "markdown",
   "id": "genuine-distribution",
   "metadata": {},
   "source": [
    "#### When are our members graduating?  "
   ]
  },
  {
   "cell_type": "code",
   "execution_count": 16,
   "id": "divine-automation",
   "metadata": {
    "scrolled": false
   },
   "outputs": [
    {
     "data": {
      "text/plain": [
       "<AxesSubplot:>"
      ]
     },
     "execution_count": 16,
     "metadata": {},
     "output_type": "execute_result"
    },
    {
     "data": {
      "image/png": "[encoded data removed]",
      "text/plain": [
       "<Figure size 720x576 with 1 Axes>"
      ]
     },
     "metadata": {
      "needs_background": "light"
     },
     "output_type": "display_data"
    }
   ],
   "source": [
    "# Plot a bar plot of Graduation distribution\n",
    "fig1 = plt.figure(figsize=(10,8))\n",
    "ax1 = fig1.gca()\n",
    "\n",
    "member_db['Year of Graduation'].value_counts().plot(kind='bar', ax=ax1)"
   ]
  },
  {
   "cell_type": "markdown",
   "id": "composed-gazette",
   "metadata": {},
   "source": [
    "#### How many of our members have graduated?"
   ]
  },
  {
   "cell_type": "code",
   "execution_count": 17,
   "id": "novel-heaven",
   "metadata": {},
   "outputs": [],
   "source": [
    "# Create a new feature Status that illustrates whether a member has graduated or is yet to graduate\n",
    "member_db.loc[member_db['Year of Graduation'] < 2021, 'Status'] = 'Graduated'\n",
    "member_db.loc[member_db['Year of Graduation'] >= 2021, 'Status'] = 'Not Graduated'"
   ]
  },
  {
   "cell_type": "code",
   "execution_count": 18,
   "id": "dying-substitute",
   "metadata": {
    "scrolled": true
   },
   "outputs": [
    {
     "data": {
      "text/plain": [
       "<AxesSubplot:>"
      ]
     },
     "execution_count": 18,
     "metadata": {},
     "output_type": "execute_result"
    },
    {
     "data": {
      "image/png": "[encoded data removed]",
      "text/plain": [
       "<Figure size 432x288 with 1 Axes>"
      ]
     },
     "metadata": {
      "needs_background": "light"
     },
     "output_type": "display_data"
    }
   ],
   "source": [
    "member_db['Status'].value_counts().plot(kind='bar')"
   ]
  },
  {
   "cell_type": "markdown",
   "id": "instructional-climate",
   "metadata": {},
   "source": [
    "### Member Engagement"
   ]
  },
  {
   "cell_type": "code",
   "execution_count": 19,
   "id": "stock-stewart",
   "metadata": {},
   "outputs": [
    {
     "data": {
      "text/html": [
       "<div>\n",
       "<style scoped>\n",
       "    .dataframe tbody tr th:only-of-type {\n",
       "        vertical-align: middle;\n",
       "    }\n",
       "\n",
       "    .dataframe tbody tr th {\n",
       "        vertical-align: top;\n",
       "    }\n",
       "\n",
       "    .dataframe thead th {\n",
       "        text-align: right;\n",
       "    }\n",
       "</style>\n",
       "<table border=\"1\" class=\"dataframe\">\n",
       "  <thead>\n",
       "    <tr style=\"text-align: right;\">\n",
       "      <th></th>\n",
       "      <th>First Name</th>\n",
       "      <th>Last Name</th>\n",
       "      <th>Email</th>\n",
       "      <th>Gender</th>\n",
       "      <th>Age</th>\n",
       "      <th>Institution</th>\n",
       "      <th>Year of Graduation</th>\n",
       "      <th>Graduation Month</th>\n",
       "      <th>Already Attended Reception</th>\n",
       "      <th>Joined Facebook Group</th>\n",
       "      <th>Attended The Living Room 1.0</th>\n",
       "      <th>Attended Room With A View 1.0</th>\n",
       "    </tr>\n",
       "  </thead>\n",
       "  <tbody>\n",
       "    <tr>\n",
       "      <th>0</th>\n",
       "      <td>Penelope</td>\n",
       "      <td>Adams</td>\n",
       "      <td>p.adams@randatmail.com</td>\n",
       "      <td>Female</td>\n",
       "      <td>18</td>\n",
       "      <td>ALU Rwanda</td>\n",
       "      <td>2023.0</td>\n",
       "      <td>January</td>\n",
       "      <td>No</td>\n",
       "      <td>Yes</td>\n",
       "      <td>No</td>\n",
       "      <td>No</td>\n",
       "    </tr>\n",
       "    <tr>\n",
       "      <th>1</th>\n",
       "      <td>Catherine</td>\n",
       "      <td>Adams</td>\n",
       "      <td>c.adams@randatmail.com</td>\n",
       "      <td>Female</td>\n",
       "      <td>28</td>\n",
       "      <td>ALX</td>\n",
       "      <td>2019.0</td>\n",
       "      <td>April</td>\n",
       "      <td>Yes</td>\n",
       "      <td>Yes</td>\n",
       "      <td>Yes</td>\n",
       "      <td>No</td>\n",
       "    </tr>\n",
       "    <tr>\n",
       "      <th>2</th>\n",
       "      <td>Aida</td>\n",
       "      <td>Adams</td>\n",
       "      <td>a.adams@randatmail.com</td>\n",
       "      <td>Female</td>\n",
       "      <td>30</td>\n",
       "      <td>ALU Rwanda</td>\n",
       "      <td>2023.0</td>\n",
       "      <td>January</td>\n",
       "      <td>No</td>\n",
       "      <td>No</td>\n",
       "      <td>Yes</td>\n",
       "      <td>Yes</td>\n",
       "    </tr>\n",
       "    <tr>\n",
       "      <th>3</th>\n",
       "      <td>Sawyer</td>\n",
       "      <td>Adams</td>\n",
       "      <td>s.adams@randatmail.com</td>\n",
       "      <td>Male</td>\n",
       "      <td>23</td>\n",
       "      <td>ALU Rwanda</td>\n",
       "      <td>2022.0</td>\n",
       "      <td>January</td>\n",
       "      <td>Yes</td>\n",
       "      <td>Yes</td>\n",
       "      <td>No</td>\n",
       "      <td>Yes</td>\n",
       "    </tr>\n",
       "    <tr>\n",
       "      <th>4</th>\n",
       "      <td>Adam</td>\n",
       "      <td>Allen</td>\n",
       "      <td>a.allen@randatmail.com</td>\n",
       "      <td>Male</td>\n",
       "      <td>29</td>\n",
       "      <td>ALU Rwanda</td>\n",
       "      <td>2021.0</td>\n",
       "      <td>January</td>\n",
       "      <td>Yes</td>\n",
       "      <td>No</td>\n",
       "      <td>No</td>\n",
       "      <td>No</td>\n",
       "    </tr>\n",
       "  </tbody>\n",
       "</table>\n",
       "</div>"
      ],
      "text/plain": [
       "  First Name Last Name                   Email  Gender  Age Institution  \\\n",
       "0   Penelope     Adams  p.adams@randatmail.com  Female   18  ALU Rwanda   \n",
       "1  Catherine     Adams  c.adams@randatmail.com  Female   28         ALX   \n",
       "2       Aida     Adams  a.adams@randatmail.com  Female   30  ALU Rwanda   \n",
       "3     Sawyer     Adams  s.adams@randatmail.com    Male   23  ALU Rwanda   \n",
       "4       Adam     Allen  a.allen@randatmail.com    Male   29  ALU Rwanda   \n",
       "\n",
       "   Year of Graduation Graduation Month Already Attended Reception  \\\n",
       "0              2023.0          January                         No   \n",
       "1              2019.0            April                        Yes   \n",
       "2              2023.0          January                         No   \n",
       "3              2022.0          January                        Yes   \n",
       "4              2021.0          January                        Yes   \n",
       "\n",
       "  Joined Facebook Group Attended The Living Room 1.0  \\\n",
       "0                   Yes                           No   \n",
       "1                   Yes                          Yes   \n",
       "2                    No                          Yes   \n",
       "3                   Yes                           No   \n",
       "4                    No                           No   \n",
       "\n",
       "  Attended Room With A View 1.0  \n",
       "0                            No  \n",
       "1                            No  \n",
       "2                           Yes  \n",
       "3                           Yes  \n",
       "4                            No  "
      ]
     },
     "execution_count": 19,
     "metadata": {},
     "output_type": "execute_result"
    }
   ],
   "source": [
    "member_engagement.head()"
   ]
  },
  {
   "cell_type": "code",
   "execution_count": 20,
   "id": "static-night",
   "metadata": {},
   "outputs": [
    {
     "data": {
      "text/plain": [
       "First Name                       0\n",
       "Last Name                        0\n",
       "Email                            0\n",
       "Gender                           0\n",
       "Age                              0\n",
       "Institution                      0\n",
       "Year of Graduation               5\n",
       "Graduation Month                 5\n",
       "Already Attended Reception       0\n",
       "Joined Facebook Group            0\n",
       "Attended The Living Room 1.0     0\n",
       "Attended Room With A View 1.0    0\n",
       "dtype: int64"
      ]
     },
     "execution_count": 20,
     "metadata": {},
     "output_type": "execute_result"
    }
   ],
   "source": [
    "# Check for null values\n",
    "member_engagement.isnull().sum()"
   ]
  },
  {
   "cell_type": "markdown",
   "id": "approved-millennium",
   "metadata": {},
   "source": [
    "#### Observation:\n",
    "* 5 records with null values for Year of Graduation and Graduation Month"
   ]
  },
  {
   "cell_type": "code",
   "execution_count": 21,
   "id": "chubby-accommodation",
   "metadata": {
    "scrolled": true
   },
   "outputs": [
    {
     "data": {
      "text/html": [
       "<div>\n",
       "<style scoped>\n",
       "    .dataframe tbody tr th:only-of-type {\n",
       "        vertical-align: middle;\n",
       "    }\n",
       "\n",
       "    .dataframe tbody tr th {\n",
       "        vertical-align: top;\n",
       "    }\n",
       "\n",
       "    .dataframe thead th {\n",
       "        text-align: right;\n",
       "    }\n",
       "</style>\n",
       "<table border=\"1\" class=\"dataframe\">\n",
       "  <thead>\n",
       "    <tr style=\"text-align: right;\">\n",
       "      <th></th>\n",
       "      <th>First Name</th>\n",
       "      <th>Last Name</th>\n",
       "      <th>Email</th>\n",
       "      <th>Gender</th>\n",
       "      <th>Age</th>\n",
       "      <th>Institution</th>\n",
       "      <th>Year of Graduation</th>\n",
       "      <th>Graduation Month</th>\n",
       "      <th>Already Attended Reception</th>\n",
       "      <th>Joined Facebook Group</th>\n",
       "      <th>Attended The Living Room 1.0</th>\n",
       "      <th>Attended Room With A View 1.0</th>\n",
       "    </tr>\n",
       "  </thead>\n",
       "  <tbody>\n",
       "    <tr>\n",
       "      <th>5</th>\n",
       "      <td>Fiona</td>\n",
       "      <td>Armstrong</td>\n",
       "      <td>f.armstrong@randatmail.com</td>\n",
       "      <td>Female</td>\n",
       "      <td>20</td>\n",
       "      <td>ALU Alumni</td>\n",
       "      <td>NaN</td>\n",
       "      <td>NaN</td>\n",
       "      <td>Yes</td>\n",
       "      <td>Yes</td>\n",
       "      <td>Yes</td>\n",
       "      <td>Yes</td>\n",
       "    </tr>\n",
       "    <tr>\n",
       "      <th>28</th>\n",
       "      <td>Oscar</td>\n",
       "      <td>Evans</td>\n",
       "      <td>o.evans@randatmail.com</td>\n",
       "      <td>Male</td>\n",
       "      <td>19</td>\n",
       "      <td>ALU Alumni</td>\n",
       "      <td>NaN</td>\n",
       "      <td>NaN</td>\n",
       "      <td>Yes</td>\n",
       "      <td>No</td>\n",
       "      <td>Yes</td>\n",
       "      <td>No</td>\n",
       "    </tr>\n",
       "    <tr>\n",
       "      <th>62</th>\n",
       "      <td>Alissa</td>\n",
       "      <td>Parker</td>\n",
       "      <td>a.parker@randatmail.com</td>\n",
       "      <td>Female</td>\n",
       "      <td>21</td>\n",
       "      <td>ALU Alumni</td>\n",
       "      <td>NaN</td>\n",
       "      <td>NaN</td>\n",
       "      <td>Yes</td>\n",
       "      <td>No</td>\n",
       "      <td>Yes</td>\n",
       "      <td>Yes</td>\n",
       "    </tr>\n",
       "    <tr>\n",
       "      <th>75</th>\n",
       "      <td>Jenna</td>\n",
       "      <td>Russell</td>\n",
       "      <td>j.russell@randatmail.com</td>\n",
       "      <td>Female</td>\n",
       "      <td>19</td>\n",
       "      <td>ALU Mauritius</td>\n",
       "      <td>NaN</td>\n",
       "      <td>NaN</td>\n",
       "      <td>No</td>\n",
       "      <td>Yes</td>\n",
       "      <td>No</td>\n",
       "      <td>No</td>\n",
       "    </tr>\n",
       "    <tr>\n",
       "      <th>79</th>\n",
       "      <td>Spike</td>\n",
       "      <td>Stevens</td>\n",
       "      <td>s.stevens@randatmail.com</td>\n",
       "      <td>Male</td>\n",
       "      <td>28</td>\n",
       "      <td>ALU Alumni</td>\n",
       "      <td>NaN</td>\n",
       "      <td>NaN</td>\n",
       "      <td>Yes</td>\n",
       "      <td>Yes</td>\n",
       "      <td>Yes</td>\n",
       "      <td>No</td>\n",
       "    </tr>\n",
       "  </tbody>\n",
       "</table>\n",
       "</div>"
      ],
      "text/plain": [
       "   First Name  Last Name                       Email  Gender  Age  \\\n",
       "5       Fiona  Armstrong  f.armstrong@randatmail.com  Female   20   \n",
       "28      Oscar      Evans      o.evans@randatmail.com    Male   19   \n",
       "62     Alissa     Parker     a.parker@randatmail.com  Female   21   \n",
       "75      Jenna    Russell    j.russell@randatmail.com  Female   19   \n",
       "79      Spike    Stevens    s.stevens@randatmail.com    Male   28   \n",
       "\n",
       "      Institution  Year of Graduation Graduation Month  \\\n",
       "5      ALU Alumni                 NaN              NaN   \n",
       "28     ALU Alumni                 NaN              NaN   \n",
       "62     ALU Alumni                 NaN              NaN   \n",
       "75  ALU Mauritius                 NaN              NaN   \n",
       "79     ALU Alumni                 NaN              NaN   \n",
       "\n",
       "   Already Attended Reception Joined Facebook Group  \\\n",
       "5                         Yes                   Yes   \n",
       "28                        Yes                    No   \n",
       "62                        Yes                    No   \n",
       "75                         No                   Yes   \n",
       "79                        Yes                   Yes   \n",
       "\n",
       "   Attended The Living Room 1.0 Attended Room With A View 1.0  \n",
       "5                           Yes                           Yes  \n",
       "28                          Yes                            No  \n",
       "62                          Yes                           Yes  \n",
       "75                           No                            No  \n",
       "79                          Yes                            No  "
      ]
     },
     "execution_count": 21,
     "metadata": {},
     "output_type": "execute_result"
    }
   ],
   "source": [
    "# Filter out records with null values\n",
    "member_engagement[member_engagement['Graduation Month'].isnull()]"
   ]
  },
  {
   "cell_type": "code",
   "execution_count": 22,
   "id": "ignored-breeding",
   "metadata": {},
   "outputs": [],
   "source": [
    "# Create a new feature, Age Group, based on the age of the member\n",
    "member_engagement.loc[(member_engagement['Age'] >= 18) & (member_engagement['Age'] < 25), 'Age Group'] = 'Youth'\n",
    "member_engagement.loc[(member_engagement['Age'] >= 25) & (member_engagement['Age'] <= 30), 'Age Group'] = 'Adult'"
   ]
  },
  {
   "cell_type": "code",
   "execution_count": 23,
   "id": "pleased-england",
   "metadata": {},
   "outputs": [],
   "source": [
    "# Compute the median Year of Graduation and mode of Graduation Month for each age group\n",
    "median_adult_grad_year = member_engagement[member_engagement['Age Group'] == 'Adult']['Year of Graduation'].median()\n",
    "mode_adult_grad_month = member_engagement[member_engagement['Age Group'] == 'Adult']['Graduation Month'].mode().values[0]\n",
    "median_youth_grad_year = member_engagement[member_engagement['Age Group'] == 'Youth']['Year of Graduation'].median()\n",
    "mode_youth_grad_month = member_engagement[member_engagement['Age Group'] == 'Youth']['Graduation Month'].mode().values[0]"
   ]
  },
  {
   "cell_type": "code",
   "execution_count": 24,
   "id": "identified-future",
   "metadata": {},
   "outputs": [
    {
     "data": {
      "text/plain": [
       "(2022.0, 'January', 2021.0, 'January')"
      ]
     },
     "execution_count": 24,
     "metadata": {},
     "output_type": "execute_result"
    }
   ],
   "source": [
    "median_adult_grad_year, mode_adult_grad_month, median_youth_grad_year, mode_youth_grad_month"
   ]
  },
  {
   "cell_type": "code",
   "execution_count": 25,
   "id": "planned-washer",
   "metadata": {},
   "outputs": [],
   "source": [
    "# Update the a member's null values based on their age group's median Year of Graduation or mode Graduation Month\n",
    "member_engagement.loc[(member_engagement['Year of Graduation'].isnull()) & (member_engagement['Age Group'] == 'Adult'), 'Year of Graduation'] = median_adult_grad_year\n",
    "member_engagement.loc[(member_engagement['Graduation Month'].isnull()) & (member_engagement['Age Group'] == 'Adult'), 'Graduation Month'] = mode_adult_grad_month\n",
    "member_engagement.loc[(member_engagement['Year of Graduation'].isnull()) & (member_engagement['Age Group'] == 'Youth'), 'Year of Graduation'] = median_youth_grad_year\n",
    "member_engagement.loc[(member_engagement['Graduation Month'].isnull()) & (member_engagement['Age Group'] == 'Youth'), 'Graduation Month'] = mode_youth_grad_month"
   ]
  },
  {
   "cell_type": "code",
   "execution_count": 26,
   "id": "agricultural-terrorist",
   "metadata": {},
   "outputs": [
    {
     "data": {
      "text/plain": [
       "First Name                       0\n",
       "Last Name                        0\n",
       "Email                            0\n",
       "Gender                           0\n",
       "Age                              0\n",
       "Institution                      0\n",
       "Year of Graduation               0\n",
       "Graduation Month                 0\n",
       "Already Attended Reception       0\n",
       "Joined Facebook Group            0\n",
       "Attended The Living Room 1.0     0\n",
       "Attended Room With A View 1.0    0\n",
       "Age Group                        0\n",
       "dtype: int64"
      ]
     },
     "execution_count": 26,
     "metadata": {},
     "output_type": "execute_result"
    }
   ],
   "source": [
    "member_engagement.isnull().sum()"
   ]
  },
  {
   "cell_type": "code",
   "execution_count": 27,
   "id": "forbidden-square",
   "metadata": {},
   "outputs": [
    {
     "data": {
      "text/html": [
       "<div>\n",
       "<style scoped>\n",
       "    .dataframe tbody tr th:only-of-type {\n",
       "        vertical-align: middle;\n",
       "    }\n",
       "\n",
       "    .dataframe tbody tr th {\n",
       "        vertical-align: top;\n",
       "    }\n",
       "\n",
       "    .dataframe thead th {\n",
       "        text-align: right;\n",
       "    }\n",
       "</style>\n",
       "<table border=\"1\" class=\"dataframe\">\n",
       "  <thead>\n",
       "    <tr style=\"text-align: right;\">\n",
       "      <th></th>\n",
       "      <th>First Name</th>\n",
       "      <th>Last Name</th>\n",
       "      <th>Email</th>\n",
       "      <th>Gender</th>\n",
       "      <th>Age</th>\n",
       "      <th>Institution</th>\n",
       "      <th>Year of Graduation</th>\n",
       "      <th>Graduation Month</th>\n",
       "      <th>Already Attended Reception</th>\n",
       "      <th>Joined Facebook Group</th>\n",
       "      <th>Attended The Living Room 1.0</th>\n",
       "      <th>Attended Room With A View 1.0</th>\n",
       "      <th>Age Group</th>\n",
       "    </tr>\n",
       "  </thead>\n",
       "  <tbody>\n",
       "  </tbody>\n",
       "</table>\n",
       "</div>"
      ],
      "text/plain": [
       "Empty DataFrame\n",
       "Columns: [First Name, Last Name, Email, Gender, Age, Institution, Year of Graduation, Graduation Month, Already Attended Reception, Joined Facebook Group, Attended The Living Room 1.0, Attended Room With A View 1.0, Age Group]\n",
       "Index: []"
      ]
     },
     "execution_count": 27,
     "metadata": {},
     "output_type": "execute_result"
    }
   ],
   "source": [
    "# Check for any duplicated records\n",
    "member_engagement[member_engagement[['Email', 'First Name', 'Last Name']].duplicated(keep=False)]"
   ]
  },
  {
   "cell_type": "markdown",
   "id": "academic-convention",
   "metadata": {},
   "source": [
    "#### Observation:\n",
    "* No duplicated records"
   ]
  },
  {
   "cell_type": "code",
   "execution_count": 28,
   "id": "joined-smile",
   "metadata": {},
   "outputs": [
    {
     "name": "stdout",
     "output_type": "stream",
     "text": [
      "<class 'pandas.core.frame.DataFrame'>\n",
      "RangeIndex: 100 entries, 0 to 99\n",
      "Data columns (total 13 columns):\n",
      " #   Column                         Non-Null Count  Dtype  \n",
      "---  ------                         --------------  -----  \n",
      " 0   First Name                     100 non-null    object \n",
      " 1   Last Name                      100 non-null    object \n",
      " 2   Email                          100 non-null    object \n",
      " 3   Gender                         100 non-null    object \n",
      " 4   Age                            100 non-null    int64  \n",
      " 5   Institution                    100 non-null    object \n",
      " 6   Year of Graduation             100 non-null    float64\n",
      " 7   Graduation Month               100 non-null    object \n",
      " 8   Already Attended Reception     100 non-null    object \n",
      " 9   Joined Facebook Group          100 non-null    object \n",
      " 10  Attended The Living Room 1.0   100 non-null    object \n",
      " 11  Attended Room With A View 1.0  100 non-null    object \n",
      " 12  Age Group                      100 non-null    object \n",
      "dtypes: float64(1), int64(1), object(11)\n",
      "memory usage: 10.3+ KB\n"
     ]
    }
   ],
   "source": [
    "member_engagement.info()"
   ]
  },
  {
   "cell_type": "code",
   "execution_count": 29,
   "id": "surface-columbia",
   "metadata": {},
   "outputs": [],
   "source": [
    "# Convert Year of Graduation from a float to an int\n",
    "member_engagement['Year of Graduation'] = member_engagement['Year of Graduation'].astype('Int64')"
   ]
  },
  {
   "cell_type": "markdown",
   "id": "electric-parent",
   "metadata": {},
   "source": [
    "#### What the gender distribution on our engagement?"
   ]
  },
  {
   "cell_type": "code",
   "execution_count": 30,
   "id": "sharing-graduate",
   "metadata": {
    "scrolled": false
   },
   "outputs": [
    {
     "data": {
      "text/plain": [
       "<AxesSubplot:>"
      ]
     },
     "execution_count": 30,
     "metadata": {},
     "output_type": "execute_result"
    },
    {
     "data": {
      "image/png": "[encoded data removed]",
      "text/plain": [
       "<Figure size 576x432 with 1 Axes>"
      ]
     },
     "metadata": {
      "needs_background": "light"
     },
     "output_type": "display_data"
    }
   ],
   "source": [
    "# Plot a histogram to show the age distribution\n",
    "fig = plt.figure(figsize=(8,6))\n",
    "ax = fig.gca()\n",
    "\n",
    "member_engagement['Age'].hist(ax=ax)"
   ]
  },
  {
   "cell_type": "code",
   "execution_count": 31,
   "id": "powered-inflation",
   "metadata": {},
   "outputs": [
    {
     "data": {
      "text/plain": [
       "<AxesSubplot:title={'center':'No. of people who attended the Reception'}>"
      ]
     },
     "execution_count": 31,
     "metadata": {},
     "output_type": "execute_result"
    },
    {
     "data": {
      "image/png": "[encoded data removed]",
      "text/plain": [
       "<Figure size 576x432 with 1 Axes>"
      ]
     },
     "metadata": {
      "needs_background": "light"
     },
     "output_type": "display_data"
    }
   ],
   "source": [
    "# No. of people who attended the Reception \n",
    "fig = plt.figure(figsize=(8,6))\n",
    "ax = fig.gca()\n",
    "\n",
    "plt.title(\"No. of people who attended the Reception\")\n",
    "member_engagement['Already Attended Reception'].value_counts().plot(kind='bar')"
   ]
  },
  {
   "cell_type": "code",
   "execution_count": 32,
   "id": "confidential-iceland",
   "metadata": {},
   "outputs": [
    {
     "data": {
      "text/plain": [
       "<AxesSubplot:title={'center':\"No. of Females who've joined Facebook Group\"}>"
      ]
     },
     "execution_count": 32,
     "metadata": {},
     "output_type": "execute_result"
    },
    {
     "data": {
      "image/png": "[encoded data removed]",
      "text/plain": [
       "<Figure size 576x432 with 1 Axes>"
      ]
     },
     "metadata": {
      "needs_background": "light"
     },
     "output_type": "display_data"
    }
   ],
   "source": [
    "# No. of Females who attended the Reception \n",
    "fig = plt.figure(figsize=(8,6))\n",
    "ax = fig.gca()\n",
    "\n",
    "plt.title(\"No. of Females who've joined Facebook Group\")\n",
    "member_engagement[member_engagement['Gender'] == 'Female']['Joined Facebook Group'].value_counts().plot(kind='bar', ax=ax)"
   ]
  },
  {
   "cell_type": "code",
   "execution_count": 33,
   "id": "pregnant-principal",
   "metadata": {},
   "outputs": [
    {
     "data": {
      "text/plain": [
       "<AxesSubplot:title={'center':\"No. of Males who've joined Facebook Group\"}>"
      ]
     },
     "execution_count": 33,
     "metadata": {},
     "output_type": "execute_result"
    },
    {
     "data": {
      "image/png": "[encoded data removed]",
      "text/plain": [
       "<Figure size 576x432 with 1 Axes>"
      ]
     },
     "metadata": {
      "needs_background": "light"
     },
     "output_type": "display_data"
    }
   ],
   "source": [
    "# No. of Males who attended the Reception \n",
    "fig = plt.figure(figsize=(8,6))\n",
    "ax = fig.gca()\n",
    "\n",
    "plt.title(\"No. of Males who've joined Facebook Group\")\n",
    "member_engagement[member_engagement['Gender'] == 'Male']['Joined Facebook Group'].value_counts().plot(kind='bar', ax=ax)"
   ]
  },
  {
   "cell_type": "code",
   "execution_count": 34,
   "id": "recognized-laugh",
   "metadata": {},
   "outputs": [
    {
     "data": {
      "text/plain": [
       "<AxesSubplot:xlabel='Gender,Already Attended Reception'>"
      ]
     },
     "execution_count": 34,
     "metadata": {},
     "output_type": "execute_result"
    },
    {
     "data": {
      "image/png": "[encoded data removed]",
      "text/plain": [
       "<Figure size 576x432 with 1 Axes>"
      ]
     },
     "metadata": {
      "needs_background": "light"
     },
     "output_type": "display_data"
    }
   ],
   "source": [
    "# The Reception event attendance based on the members Gender\n",
    "\n",
    "fig = plt.figure(figsize=(8,6))\n",
    "ax = fig.gca()\n",
    "\n",
    "member_engagement.groupby('Gender')['Already Attended Reception'].value_counts().plot(kind='bar', ax=ax)"
   ]
  },
  {
   "cell_type": "code",
   "execution_count": 35,
   "id": "alternative-cache",
   "metadata": {},
   "outputs": [
    {
     "data": {
      "text/plain": [
       "<AxesSubplot:>"
      ]
     },
     "execution_count": 35,
     "metadata": {},
     "output_type": "execute_result"
    },
    {
     "data": {
      "image/png": "[encoded data removed]",
      "text/plain": [
       "<Figure size 576x432 with 1 Axes>"
      ]
     },
     "metadata": {
      "needs_background": "light"
     },
     "output_type": "display_data"
    }
   ],
   "source": [
    "# No. of people who Joined Facebook Group\n",
    "fig = plt.figure(figsize=(8,6))\n",
    "ax = fig.gca()\n",
    "\n",
    "member_engagement['Joined Facebook Group'].value_counts().plot(kind='bar', ax=ax)"
   ]
  },
  {
   "cell_type": "code",
   "execution_count": 36,
   "id": "ideal-aviation",
   "metadata": {},
   "outputs": [
    {
     "data": {
      "text/plain": [
       "<AxesSubplot:>"
      ]
     },
     "execution_count": 36,
     "metadata": {},
     "output_type": "execute_result"
    },
    {
     "data": {
      "image/png": "[encoded data removed]",
      "text/plain": [
       "<Figure size 576x432 with 1 Axes>"
      ]
     },
     "metadata": {
      "needs_background": "light"
     },
     "output_type": "display_data"
    }
   ],
   "source": [
    "# No. of people who Attended The Living Room 1.0\n",
    "fig = plt.figure(figsize=(8,6))\n",
    "ax = fig.gca()\n",
    "\n",
    "member_engagement['Attended The Living Room 1.0'].value_counts().plot(kind='bar', ax=ax)"
   ]
  },
  {
   "cell_type": "code",
   "execution_count": 37,
   "id": "iraqi-gathering",
   "metadata": {},
   "outputs": [
    {
     "data": {
      "text/plain": [
       "<AxesSubplot:>"
      ]
     },
     "execution_count": 37,
     "metadata": {},
     "output_type": "execute_result"
    },
    {
     "data": {
      "image/png": "[encoded data removed]",
      "text/plain": [
       "<Figure size 576x432 with 1 Axes>"
      ]
     },
     "metadata": {
      "needs_background": "light"
     },
     "output_type": "display_data"
    }
   ],
   "source": [
    "# No. of people who Attended Room With A View 1.0\n",
    "fig = plt.figure(figsize=(8,6))\n",
    "ax = fig.gca()\n",
    "\n",
    "member_engagement['Attended Room With A View 1.0'].value_counts().plot(kind='bar', ax=ax)"
   ]
  },
  {
   "cell_type": "code",
   "execution_count": 38,
   "id": "minor-spring",
   "metadata": {},
   "outputs": [
    {
     "data": {
      "text/html": [
       "<div>\n",
       "<style scoped>\n",
       "    .dataframe tbody tr th:only-of-type {\n",
       "        vertical-align: middle;\n",
       "    }\n",
       "\n",
       "    .dataframe tbody tr th {\n",
       "        vertical-align: top;\n",
       "    }\n",
       "\n",
       "    .dataframe thead th {\n",
       "        text-align: right;\n",
       "    }\n",
       "</style>\n",
       "<table border=\"1\" class=\"dataframe\">\n",
       "  <thead>\n",
       "    <tr style=\"text-align: right;\">\n",
       "      <th></th>\n",
       "      <th>First Name</th>\n",
       "      <th>Last Name</th>\n",
       "      <th>Email</th>\n",
       "      <th>Gender</th>\n",
       "      <th>Age</th>\n",
       "      <th>Institution</th>\n",
       "      <th>Year of Graduation</th>\n",
       "      <th>Graduation Month</th>\n",
       "      <th>Already Attended Reception</th>\n",
       "      <th>Joined Facebook Group</th>\n",
       "      <th>Attended The Living Room 1.0</th>\n",
       "      <th>Attended Room With A View 1.0</th>\n",
       "      <th>Age Group</th>\n",
       "    </tr>\n",
       "  </thead>\n",
       "  <tbody>\n",
       "    <tr>\n",
       "      <th>24</th>\n",
       "      <td>Brooke</td>\n",
       "      <td>Douglas</td>\n",
       "      <td>b.douglas@randatmail.com</td>\n",
       "      <td>Female</td>\n",
       "      <td>20</td>\n",
       "      <td>ALU Rwanda</td>\n",
       "      <td>2023</td>\n",
       "      <td>January</td>\n",
       "      <td>No</td>\n",
       "      <td>No</td>\n",
       "      <td>No</td>\n",
       "      <td>No</td>\n",
       "      <td>Youth</td>\n",
       "    </tr>\n",
       "    <tr>\n",
       "      <th>27</th>\n",
       "      <td>Abraham</td>\n",
       "      <td>Ellis</td>\n",
       "      <td>a.ellis@randatmail.com</td>\n",
       "      <td>Male</td>\n",
       "      <td>18</td>\n",
       "      <td>ALU Rwanda</td>\n",
       "      <td>2023</td>\n",
       "      <td>January</td>\n",
       "      <td>No</td>\n",
       "      <td>No</td>\n",
       "      <td>No</td>\n",
       "      <td>No</td>\n",
       "      <td>Youth</td>\n",
       "    </tr>\n",
       "    <tr>\n",
       "      <th>47</th>\n",
       "      <td>Jessica</td>\n",
       "      <td>Mitchell</td>\n",
       "      <td>j.mitchell@randatmail.com</td>\n",
       "      <td>Female</td>\n",
       "      <td>25</td>\n",
       "      <td>ALU Rwanda</td>\n",
       "      <td>2023</td>\n",
       "      <td>January</td>\n",
       "      <td>No</td>\n",
       "      <td>No</td>\n",
       "      <td>No</td>\n",
       "      <td>No</td>\n",
       "      <td>Adult</td>\n",
       "    </tr>\n",
       "    <tr>\n",
       "      <th>55</th>\n",
       "      <td>Martin</td>\n",
       "      <td>Morris</td>\n",
       "      <td>m.morris@randatmail.com</td>\n",
       "      <td>Male</td>\n",
       "      <td>30</td>\n",
       "      <td>ALU Rwanda</td>\n",
       "      <td>2023</td>\n",
       "      <td>January</td>\n",
       "      <td>No</td>\n",
       "      <td>No</td>\n",
       "      <td>No</td>\n",
       "      <td>No</td>\n",
       "      <td>Adult</td>\n",
       "    </tr>\n",
       "    <tr>\n",
       "      <th>57</th>\n",
       "      <td>Fenton</td>\n",
       "      <td>Murray</td>\n",
       "      <td>f.murray@randatmail.com</td>\n",
       "      <td>Male</td>\n",
       "      <td>28</td>\n",
       "      <td>ALU Rwanda</td>\n",
       "      <td>2021</td>\n",
       "      <td>January</td>\n",
       "      <td>No</td>\n",
       "      <td>No</td>\n",
       "      <td>No</td>\n",
       "      <td>No</td>\n",
       "      <td>Adult</td>\n",
       "    </tr>\n",
       "    <tr>\n",
       "      <th>72</th>\n",
       "      <td>Mary</td>\n",
       "      <td>Ross</td>\n",
       "      <td>m.ross@randatmail.com</td>\n",
       "      <td>Female</td>\n",
       "      <td>30</td>\n",
       "      <td>ALU Rwanda</td>\n",
       "      <td>2023</td>\n",
       "      <td>January</td>\n",
       "      <td>No</td>\n",
       "      <td>No</td>\n",
       "      <td>No</td>\n",
       "      <td>No</td>\n",
       "      <td>Adult</td>\n",
       "    </tr>\n",
       "  </tbody>\n",
       "</table>\n",
       "</div>"
      ],
      "text/plain": [
       "   First Name Last Name                      Email  Gender  Age Institution  \\\n",
       "24     Brooke   Douglas   b.douglas@randatmail.com  Female   20  ALU Rwanda   \n",
       "27    Abraham     Ellis     a.ellis@randatmail.com    Male   18  ALU Rwanda   \n",
       "47    Jessica  Mitchell  j.mitchell@randatmail.com  Female   25  ALU Rwanda   \n",
       "55     Martin    Morris    m.morris@randatmail.com    Male   30  ALU Rwanda   \n",
       "57     Fenton    Murray    f.murray@randatmail.com    Male   28  ALU Rwanda   \n",
       "72       Mary      Ross      m.ross@randatmail.com  Female   30  ALU Rwanda   \n",
       "\n",
       "    Year of Graduation Graduation Month Already Attended Reception  \\\n",
       "24                2023          January                         No   \n",
       "27                2023          January                         No   \n",
       "47                2023          January                         No   \n",
       "55                2023          January                         No   \n",
       "57                2021          January                         No   \n",
       "72                2023          January                         No   \n",
       "\n",
       "   Joined Facebook Group Attended The Living Room 1.0  \\\n",
       "24                    No                           No   \n",
       "27                    No                           No   \n",
       "47                    No                           No   \n",
       "55                    No                           No   \n",
       "57                    No                           No   \n",
       "72                    No                           No   \n",
       "\n",
       "   Attended Room With A View 1.0 Age Group  \n",
       "24                            No     Youth  \n",
       "27                            No     Youth  \n",
       "47                            No     Adult  \n",
       "55                            No     Adult  \n",
       "57                            No     Adult  \n",
       "72                            No     Adult  "
      ]
     },
     "execution_count": 38,
     "metadata": {},
     "output_type": "execute_result"
    }
   ],
   "source": [
    "# Members who havent had any engagement\n",
    "member_engagement[(member_engagement[ 'Already Attended Reception'] == 'No') & \n",
    "                  (member_engagement[ 'Joined Facebook Group'] == 'No') & \n",
    "                  (member_engagement[ 'Attended The Living Room 1.0'] == 'No') &\n",
    "                  (member_engagement[ 'Attended Room With A View 1.0'] == 'No')]"
   ]
  },
  {
   "cell_type": "code",
   "execution_count": null,
   "id": "stylish-aurora",
   "metadata": {},
   "outputs": [],
   "source": []
  }
 ],
 "metadata": {
  "kernelspec": {
   "display_name": "Python 3",
   "language": "python",
   "name": "python3"
  },
  "language_info": {
   "codemirror_mode": {
    "name": "ipython",
    "version": 3
   },
   "file_extension": ".py",
   "mimetype": "text/x-python",
   "name": "python",
   "nbconvert_exporter": "python",
   "pygments_lexer": "ipython3",
   "version": "3.8.8"
  }
 },
 "nbformat": 4,
 "nbformat_minor": 5
}
